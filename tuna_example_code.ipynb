{
 "cells": [
  {
   "cell_type": "code",
   "execution_count": null,
   "metadata": {},
   "outputs": [],
   "source": [
    "package main\n",
    "\n",
    "\n",
    "/*\n",
    "\n",
    "開發大流程\n",
    "\n",
    "    引入套件\n",
    "\n",
    "    定義資料格式\n",
    "    生成模擬資料\n",
    "    查詢單隻tuna\n",
    "    增加新紀錄\n",
    "    查詢所有紀錄\n",
    "    變換持有人\n",
    "\n",
    "    設定必須的 init 與 invoke 方法\n",
    "\n",
    "    主程序\n",
    "\n",
    "*/\n",
    "\n"
   ]
  },
  {
   "cell_type": "code",
   "execution_count": null,
   "metadata": {},
   "outputs": [],
   "source": [
    "/*\n",
    "\n",
    "引入套件\n",
    "\n",
    "下方源碼，在閱讀後，進行註解\n",
    "\n",
    "*/"
   ]
  },
  {
   "cell_type": "code",
   "execution_count": null,
   "metadata": {},
   "outputs": [],
   "source": [
    "import (\n",
    "        \"bytes\"\n",
    "        \"encoding/json\"\n",
    "        \"fmt\"\n",
    "        \"strconv\"\n",
    "\n",
    "        \"github.com/hyperledger/fabric/core/chaincode/shim\"\n",
    "        sc \"github.com/hyperledger/fabric/protos/peer\"\n",
    ")"
   ]
  },
  {
   "cell_type": "code",
   "execution_count": null,
   "metadata": {},
   "outputs": [],
   "source": [
    "/*\n",
    "\n",
    "定義資料格式\n",
    "\n",
    "下方源碼，在閱讀後，進行註解\n",
    "\n",
    "*/"
   ]
  },
  {
   "cell_type": "code",
   "execution_count": null,
   "metadata": {},
   "outputs": [],
   "source": [
    "type SmartContract struct {\n",
    "\n",
    "}\n",
    "\n",
    "type Tuna struct {\n",
    "        Vessel string `json:\"vessel\"`\n",
    "        Timestamp string `json:\"timestamp\"`\n",
    "        Location  string `json:\"location\"`\n",
    "        Holder  string `json:\"holder\"`\n",
    "}"
   ]
  },
  {
   "cell_type": "code",
   "execution_count": null,
   "metadata": {},
   "outputs": [],
   "source": [
    "/*\n",
    "\n",
    "生成模擬資料\n",
    "\n",
    "下方源碼，在閱讀後，進行註解\n",
    "\n",
    "*/"
   ]
  },
  {
   "cell_type": "code",
   "execution_count": null,
   "metadata": {},
   "outputs": [],
   "source": [
    "\n",
    "func (s *SmartContract) initLedger(APIstub shim.ChaincodeStubInterface) sc.Response {\n",
    "        tuna := []Tuna{\n",
    "                Tuna{Vessel: \"923F\", Location: \"太平洋\", Timestamp: \"20180701\", Holder: \"Miriam\"},\n",
    "\t\tTuna{Vessel: \"M83T\", Location: \"大西洋\", Timestamp: \"20180701\", Holder: \"Dave\"},\n",
    "\t\tTuna{Vessel: \"T012\", Location: \"印度洋\", Timestamp: \"20180703\", Holder: \"Igor\"},\n",
    "\t\tTuna{Vessel: \"P490\", Location: \"北冰洋\", Timestamp: \"20180703\", Holder: \"Amalea\"},\n",
    "\t\tTuna{Vessel: \"S439\", Location: \"南冰洋\", Timestamp: \"20180703\", Holder: \"Rafa\"},\n",
    "\t\tTuna{Vessel: \"J205\", Location: \"太平洋\", Timestamp: \"20180704\", Holder: \"Shen\"},\n",
    "\t\tTuna{Vessel: \"S22L\", Location: \"大西洋\", Timestamp: \"20180705\", Holder: \"Leila\"},\n",
    "\t\tTuna{Vessel: \"EI89\", Location: \"印度洋\", Timestamp: \"20180705\", Holder: \"Yuan\"},\n",
    "\t\tTuna{Vessel: \"129R\", Location: \"北冰洋\", Timestamp: \"20180705\", Holder: \"Carlo\"},\n",
    "\t\tTuna{Vessel: \"49W4\", Location: \"南冰洋\", Timestamp: \"20180703\", Holder: \"Fatima\"},\n",
    "        }\n",
    "\n",
    "        i := 0\n",
    "        for i < len(tuna) {\n",
    "                fmt.Println(\"i is \", i)\n",
    "                tunaAsBytes, _ := json.Marshal(tuna[i])\n",
    "                APIstub.PutState(strconv.Itoa(i+1), tunaAsBytes)\n",
    "                fmt.Println(\"Added\", tuna[i])\n",
    "                i = i + 1\n",
    "        }\n",
    "\n",
    "        return shim.Success(nil)\n",
    "}\n"
   ]
  },
  {
   "cell_type": "code",
   "execution_count": null,
   "metadata": {},
   "outputs": [],
   "source": [
    "/*\n",
    "\n",
    "查詢單隻tuna\n",
    "\n",
    "下方源碼，在閱讀後，進行註解\n",
    "\n",
    "*/"
   ]
  },
  {
   "cell_type": "code",
   "execution_count": null,
   "metadata": {},
   "outputs": [],
   "source": [
    "func (s *SmartContract) queryTuna(APIstub shim.ChaincodeStubInterface, args []string) sc.Response {\n",
    "\n",
    "        if len(args) != 1 {\n",
    "                return shim.Error(\"Incorrect number of arguments. Expecting 1\")\n",
    "        }\n",
    "\n",
    "        tunaAsBytes, _ := APIstub.GetState(args[0])\n",
    "        if tunaAsBytes == nil {\n",
    "                return shim.Error(\"Could not locate tuna\")\n",
    "        }\n",
    "        return shim.Success(tunaAsBytes)\n",
    "}"
   ]
  },
  {
   "cell_type": "code",
   "execution_count": null,
   "metadata": {},
   "outputs": [],
   "source": [
    "/*\n",
    "\n",
    "增加新紀錄\n",
    "\n",
    "下方源碼，在閱讀後，進行註解\n",
    "\n",
    "*/"
   ]
  },
  {
   "cell_type": "code",
   "execution_count": null,
   "metadata": {},
   "outputs": [],
   "source": [
    "func (s *SmartContract) recordTuna(APIstub shim.ChaincodeStubInterface, args []string) sc.Response {\n",
    "\n",
    "        if len(args) != 5 {\n",
    "                return shim.Error(\"Incorrect number of arguments. Expecting 5\")\n",
    "        }\n",
    "\n",
    "        var tuna = Tuna{ Vessel: args[1], Location: args[2], Timestamp: args[3], Holder: args[4] }\n",
    "\n",
    "        tunaAsBytes, _ := json.Marshal(tuna)\n",
    "        err := APIstub.PutState(args[0], tunaAsBytes)\n",
    "        if err != nil {\n",
    "                return shim.Error(fmt.Sprintf(\"Failed to record tuna catch: %s\", args[0]))\n",
    "        }\n",
    "\n",
    "        return shim.Success(nil)\n",
    "}"
   ]
  },
  {
   "cell_type": "code",
   "execution_count": null,
   "metadata": {},
   "outputs": [],
   "source": [
    "/*\n",
    "\n",
    "查詢所有紀錄\n",
    "\n",
    "下方源碼，在閱讀後，進行註解\n",
    "\n",
    "*/"
   ]
  },
  {
   "cell_type": "code",
   "execution_count": null,
   "metadata": {},
   "outputs": [],
   "source": [
    "func (s *SmartContract) queryAllTuna(APIstub shim.ChaincodeStubInterface) sc.Response {\n",
    "\n",
    "        startKey := \"0\"\n",
    "        endKey := \"999\"\n",
    "\n",
    "        resultsIterator, err := APIstub.GetStateByRange(startKey, endKey)\n",
    "        if err != nil {\n",
    "                return shim.Error(err.Error())\n",
    "        }\n",
    "        defer resultsIterator.Close()\n",
    "\n",
    "        // buffer is a JSON array containing QueryResults\n",
    "        var buffer bytes.Buffer\n",
    "        buffer.WriteString(\"[\")\n",
    "\n",
    "        bArrayMemberAlreadyWritten := false\n",
    "        for resultsIterator.HasNext() {\n",
    "                queryResponse, err := resultsIterator.Next()\n",
    "                if err != nil {\n",
    "                        return shim.Error(err.Error())\n",
    "                }\n",
    "                // Add comma before array members,suppress it for the first array member\n",
    "                if bArrayMemberAlreadyWritten == true {\n",
    "                        buffer.WriteString(\",\")\n",
    "                }\n",
    "                buffer.WriteString(\"{\\\"Key\\\":\")\n",
    "                buffer.WriteString(\"\\\"\")\n",
    "                buffer.WriteString(queryResponse.Key)\n",
    "                buffer.WriteString(\"\\\"\")\n",
    "\n",
    "                buffer.WriteString(\", \\\"Record\\\":\")\n",
    "                // Record is a JSON object, so we write as-is\n",
    "                buffer.WriteString(string(queryResponse.Value))\n",
    "                buffer.WriteString(\"}\")\n",
    "                bArrayMemberAlreadyWritten = true\n",
    "        }\n",
    "        buffer.WriteString(\"]\")\n",
    "\n",
    "        fmt.Printf(\"- queryAllTuna:\\n%s\\n\", buffer.String())\n",
    "\n",
    "        return shim.Success(buffer.Bytes())\n",
    "}"
   ]
  },
  {
   "cell_type": "code",
   "execution_count": null,
   "metadata": {},
   "outputs": [],
   "source": [
    "/*\n",
    "\n",
    "變換持有人\n",
    "\n",
    "下方源碼，在閱讀後，進行註解\n",
    "\n",
    "*/\n"
   ]
  },
  {
   "cell_type": "code",
   "execution_count": null,
   "metadata": {},
   "outputs": [],
   "source": [
    "func (s *SmartContract) changeTunaHolder(APIstub shim.ChaincodeStubInterface, args []string) sc.Response {\n",
    "\n",
    "        if len(args) != 2 {\n",
    "                return shim.Error(\"Incorrect number of arguments. Expecting 2\")\n",
    "        }\n",
    "\n",
    "        tunaAsBytes, _ := APIstub.GetState(args[0])\n",
    "        if tunaAsBytes == nil {\n",
    "                return shim.Error(\"Could not locate tuna\")\n",
    "        }\n",
    "        tuna := Tuna{}\n",
    "\n",
    "        json.Unmarshal(tunaAsBytes, &tuna)\n",
    "        // Normally check that the specified argument is a valid holder of tuna\n",
    "        // we are skipping this check for this example\n",
    "        tuna.Holder = args[1]\n",
    "\n",
    "        tunaAsBytes, _ = json.Marshal(tuna)\n",
    "        err := APIstub.PutState(args[0], tunaAsBytes)\n",
    "        if err != nil {\n",
    "                return shim.Error(fmt.Sprintf(\"Failed to change tuna holder: %s\", args[0]))\n",
    "        }\n",
    "\n",
    "        return shim.Success(nil)\n",
    "}"
   ]
  },
  {
   "cell_type": "code",
   "execution_count": null,
   "metadata": {},
   "outputs": [],
   "source": [
    "/*\n",
    "\n",
    "主程序\n",
    "\n",
    "下方源碼，在閱讀後，進行註解\n",
    "\n",
    "*/\n"
   ]
  },
  {
   "cell_type": "code",
   "execution_count": null,
   "metadata": {},
   "outputs": [],
   "source": [
    "func main() {\n",
    "\n",
    "        // Create a new Smart Contract\n",
    "        err := shim.Start(new(SmartContract))\n",
    "        if err != nil {\n",
    "                fmt.Printf(\"Error creating new Smart Contract: %s\", err)\n",
    "        }\n",
    "}"
   ]
  }
 ],
 "metadata": {
  "kernelspec": {
   "display_name": "Go (lgo)",
   "language": "go",
   "name": "lgo"
  },
  "language_info": {
   "file_extension": "",
   "mimetype": "",
   "name": "go",
   "version": ""
  }
 },
 "nbformat": 4,
 "nbformat_minor": 2
}
