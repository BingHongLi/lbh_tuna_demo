{
 "cells": [
  {
   "cell_type": "code",
   "execution_count": null,
   "metadata": {},
   "outputs": [],
   "source": [
    "// 引用套件"
   ]
  },
  {
   "cell_type": "code",
   "execution_count": null,
   "metadata": {},
   "outputs": [],
   "source": [
    "// 定義合約的資產"
   ]
  },
  {
   "cell_type": "code",
   "execution_count": null,
   "metadata": {},
   "outputs": [],
   "source": [
    "// 定義智能合約初始化的行為"
   ]
  },
  {
   "cell_type": "code",
   "execution_count": null,
   "metadata": {},
   "outputs": [],
   "source": [
    "// 定義智能合約實例化的行為"
   ]
  },
  {
   "cell_type": "code",
   "execution_count": null,
   "metadata": {},
   "outputs": [],
   "source": [
    "// 定義智能合約其他方法"
   ]
  },
  {
   "cell_type": "code",
   "execution_count": null,
   "metadata": {},
   "outputs": [],
   "source": [
    "// 啟動智能合約"
   ]
  },
  {
   "cell_type": "code",
   "execution_count": null,
   "metadata": {},
   "outputs": [],
   "source": [
    "// 開發環境執行指令 - 載入Chaincode\n",
    "\n",
    "/*\n",
    "    把源碼資料夾放入開發環境指定的資料夾後\n",
    "    進入Chaincode container 進行構建與掛入\n",
    "    \n",
    "    範例\n",
    "    docker exec -it chaincode bash\n",
    "    cd lbh_tuna_demo\n",
    "    go build \n",
    "    CORE_PEER_ADDRESS=peer:7052 CORE_CHAINCODE_ID_NAME=lbh_tuna_demo:0 ./lbh_tuna_demo\n",
    "*/\n",
    "\n"
   ]
  },
  {
   "cell_type": "code",
   "execution_count": null,
   "metadata": {},
   "outputs": [],
   "source": [
    "// 使用Cli Container \n",
    "// 安裝合約\n",
    "// 初始化合約\n",
    "\n",
    "/*\n",
    "    範例\n",
    "    docker exec -it cli bash\n",
    "    peer chaincode install -p chaincodedev/chaincode/lbh_tuna_demo -n lbh_tuna_demo -v 0\n",
    "    peer chaincode instantiate -n lbh_tuna_demo -v 0  -c '{\"Args\":[]}' -C myc\n",
    "\n",
    "*/"
   ]
  }
 ],
 "metadata": {
  "kernelspec": {
   "display_name": "Go (lgo)",
   "language": "go",
   "name": "lgo"
  },
  "language_info": {
   "file_extension": "",
   "mimetype": "",
   "name": "go",
   "version": ""
  }
 },
 "nbformat": 4,
 "nbformat_minor": 2
}
